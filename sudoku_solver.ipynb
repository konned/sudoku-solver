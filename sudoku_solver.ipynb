{
 "cells": [
  {
   "cell_type": "markdown",
   "metadata": {},
   "source": [
    "# Sudoku miniproject\n",
    "\n",
    "Below you will find the most elegant solution of sudoku solver coded by Peter Norvig. It's a good notation and implementation of two (simple) techniques that are enough to solve sudoku in a reasonable time.\n",
    "\n",
    "You can find the original post here: http://norvig.com/sudoku.html\n",
    "\n",
    "The best website about sudoku: http://www.sudokudragon.com/sudokutheory.htm"
   ]
  },
  {
   "cell_type": "markdown",
   "metadata": {},
   "source": [
    "### Sudoku Notation and Preliminary Notions\n",
    "\n",
    "First we have to agree on some notation. A Sudoku puzzle is a grid of 81 squares; the majority of enthusiasts label the columns 1-9, the rows A-I, and call a collection of nine squares (column, row, or box) a unit and the squares that share a unit the peers. A puzzle leaves some squares blank and fills others with digits, and the whole idea is:\n",
    "A puzzle is solved if the squares in each unit are filled with a permutation of the digits 1 to 9.\n",
    "That is, no digit can appear twice in a unit, and every digit must appear once. This implies that each square must have a different value from any of its peers. Here are the names of the squares, a typical puzzle, and the solution to the puzzle:\n",
    "\n",
    "```\n",
    " A1 A2 A3| A4 A5 A6| A7 A8 A9    4 . . |. . . |8 . 5     4 1 7 |3 6 9 |8 2 5 \n",
    " B1 B2 B3| B4 B5 B6| B7 B8 B9    . 3 . |. . . |. . .     6 3 2 |1 5 8 |9 4 7\n",
    " C1 C2 C3| C4 C5 C6| C7 C8 C9    . . . |7 . . |. . .     9 5 8 |7 2 4 |3 1 6 \n",
    "---------+---------+---------    ------+------+------    ------+------+------\n",
    " D1 D2 D3| D4 D5 D6| D7 D8 D9    . 2 . |. . . |. 6 .     8 2 5 |4 3 7 |1 6 9 \n",
    " E1 E2 E3| E4 E5 E6| E7 E8 E9    . . . |. 8 . |4 . .     7 9 1 |5 8 6 |4 3 2 \n",
    " F1 F2 F3| F4 F5 F6| F7 F8 F9    . . . |. 1 . |. . .     3 4 6 |9 1 2 |7 5 8 \n",
    "---------+---------+---------    ------+------+------    ------+------+------\n",
    " G1 G2 G3| G4 G5 G6| G7 G8 G9    . . . |6 . 3 |. 7 .     2 8 9 |6 4 3 |5 7 1 \n",
    " H1 H2 H3| H4 H5 H6| H7 H8 H9    5 . . |2 . . |. . .     5 7 3 |2 9 1 |6 8 4 \n",
    " I1 I2 I3| I4 I5 I6| I7 I8 I9    1 . 4 |. . . |. . .     1 6 4 |8 7 5 |2 9 3 \n",
    "```\n",
    "\n",
    "Every square has exactly 3 units and 20 peers. For example, here are the units and peers for the square C2:\n",
    "\n",
    "```\n",
    "    A2   |         |                    |         |            A1 A2 A3|         |         \n",
    "    B2   |         |                    |         |            B1 B2 B3|         |         \n",
    "    C2   |         |            C1 C2 C3| C4 C5 C6| C7 C8 C9   C1 C2 C3|         |         \n",
    "---------+---------+---------  ---------+---------+---------  ---------+---------+---------\n",
    "    D2   |         |                    |         |                    |         |         \n",
    "    E2   |         |                    |         |                    |         |         \n",
    "    F2   |         |                    |         |                    |         |         \n",
    "---------+---------+---------  ---------+---------+---------  ---------+---------+---------\n",
    "    G2   |         |                    |         |                    |         |         \n",
    "    H2   |         |                    |         |                    |         |         \n",
    "    I2   |         |                    |         |                    |         |    \n",
    "```"
   ]
  },
  {
   "cell_type": "code",
   "execution_count": 15,
   "metadata": {},
   "outputs": [
    {
     "name": "stdout",
     "output_type": "stream",
     "text": [
      "[['A1', 'B1', 'C1', 'D1', 'E1', 'F1', 'G1', 'H1', 'I1'], ['A1', 'A2', 'A3', 'A4', 'A5', 'A6', 'A7', 'A8', 'A9'], ['A1', 'A2', 'A3', 'B1', 'B2', 'B3', 'C1', 'C2', 'C3']]\n"
     ]
    }
   ],
   "source": [
    "#notation\n",
    "\n",
    "def cross(A, B):\n",
    "    \"Cross product of elements in A and elements in B.\"\n",
    "    return [a+b for a in A for b in B]\n",
    "\n",
    "digits   = '123456789'\n",
    "rows     = 'ABCDEFGHI'\n",
    "cols     = digits\n",
    "squares  = cross(rows, cols)\n",
    "unitlist = ([cross(rows, c) for c in cols] +\n",
    "            [cross(r, cols) for r in rows] +\n",
    "            [cross(rs, cs) for rs in ('ABC','DEF','GHI') for cs in ('123','456','789')])\n",
    "units = dict((s, [u for u in unitlist if s in u]) \n",
    "             for s in squares)\n",
    "peers = dict((s, set(sum(units[s],[]))-set([s]))\n",
    "             for s in squares)\n",
    "\n",
    "print(units['A1'])"
   ]
  },
  {
   "cell_type": "markdown",
   "metadata": {},
   "source": [
    "### Sudoku grid\n",
    "Now that we have squares, units, and peers, the next step is to define the Sudoku playing grid. Actually we need two representations: First, a textual format used to specify the initial state of a puzzle; we will reserve the name grid for this. Second, an internal representation of any state of a puzzle, partially solved or complete; this we will call a values collection because it will give all the remaining possible values for each square. For the textual format (grid) we'll allow a string of characters with 1-9 indicating a digit, and a 0 or period specifying an empty square. All other characters are ignored (including spaces, newlines, dashes, and bars). So each of the following three grid strings represent the same puzzle:\n",
    "\n"
   ]
  },
  {
   "cell_type": "code",
   "execution_count": 25,
   "metadata": {},
   "outputs": [
    {
     "name": "stdout",
     "output_type": "stream",
     "text": [
      "123456789 123456789     3     |123456789     2     123456789 |    6     123456789 123456789 \n",
      "    9     123456789 123456789 |    3     123456789     5     |123456789 123456789     1     \n",
      "123456789 123456789     1     |    8     123456789     6     |    4     123456789 123456789 \n",
      "------------------------------+------------------------------+------------------------------\n",
      "123456789 123456789     8     |    1     123456789     2     |    9     123456789 123456789 \n",
      "    7     123456789 123456789 |123456789 123456789 123456789 |123456789 123456789     8     \n",
      "123456789 123456789     6     |    7     123456789     8     |    2     123456789 123456789 \n",
      "------------------------------+------------------------------+------------------------------\n",
      "123456789 123456789     2     |    6     123456789     9     |    5     123456789 123456789 \n",
      "    8     123456789 123456789 |    2     123456789     3     |123456789 123456789     9     \n",
      "123456789 123456789     5     |123456789     1     123456789 |    3     123456789 123456789 \n",
      "\n"
     ]
    }
   ],
   "source": [
    "# parser\n",
    "boxes = cross(rows,cols)\n",
    "def grid_values(grid):\n",
    "    \"\"\"Convert grid string into {<box>: <value>} dict with '123456789' value for empties.\n",
    "\n",
    "    Args:\n",
    "        grid: Sudoku grid in string form, 81 characters long\n",
    "    Returns:\n",
    "        Sudoku grid in dictionary form:\n",
    "        - keys: Box labels, e.g. 'A1'\n",
    "        - values: Value in corresponding box, e.g. '8', or '123456789' if it is empty.\n",
    "    \"\"\"\n",
    "    values = list(grid)\n",
    "    values = [x if x != '.' else '123456789' for x in values]\n",
    "    return (dict(zip(boxes, values)))\n",
    "\n",
    "def display(values):\n",
    "    \"Display these values as a 2-D grid.\"\n",
    "    width = 1+max(len(values[s]) for s in squares)\n",
    "    line = '+'.join(['-'*(width*3)]*3)\n",
    "    for r in rows:\n",
    "        print(''.join(values[r+c].center(width)+('|' if c in '36' else '') for c in cols))\n",
    "        if r in 'CF': print(line)\n",
    "    print()\n",
    "    \n",
    "    \n",
    "def grid_values_empty(grid):\n",
    "    \"\"\"Convert grid string into {<box>: <value>} dict with '.' value for empties.\n",
    "\n",
    "    Args:\n",
    "        grid: Sudoku grid in string form, 81 characters long\n",
    "    Returns:\n",
    "        Sudoku grid in dictionary form:\n",
    "        - keys: Box labels, e.g. 'A1'\n",
    "        - values: Value in corresponding box, e.g. '8', or '.' if it is empty.\n",
    "    \"\"\"\n",
    "    values = list(grid)\n",
    "    #values = [x if x != '.' else '.' for x in values]\n",
    "    return (dict(zip(boxes, values)))\n",
    "\n",
    "# sample sudoku\n",
    "sudoku1 = '..3.2.6..9..3.5..1..18.64....81.29..7.......8..67.82....26.95..8..2.3..9..5.1.3..'\n",
    "display(grid_values(sudoku1))"
   ]
  },
  {
   "cell_type": "code",
   "execution_count": 26,
   "metadata": {},
   "outputs": [
    {
     "name": "stdout",
     "output_type": "stream",
     "text": [
      ". . 3 |. 2 . |6 . . \n",
      "9 . . |3 . 5 |. . 1 \n",
      ". . 1 |8 . 6 |4 . . \n",
      "------+------+------\n",
      ". . 8 |1 . 2 |9 . . \n",
      "7 . . |. . . |. . 8 \n",
      ". . 6 |7 . 8 |2 . . \n",
      "------+------+------\n",
      ". . 2 |6 . 9 |5 . . \n",
      "8 . . |2 . 3 |. . 9 \n",
      ". . 5 |. 1 . |3 . . \n",
      "\n"
     ]
    }
   ],
   "source": [
    "sudoku1 = '..3.2.6..9..3.5..1..18.64....81.29..7.......8..67.82....26.95..8..2.3..9..5.1.3..'\n",
    "display(grid_values_empty(sudoku1))"
   ]
  },
  {
   "cell_type": "markdown",
   "metadata": {},
   "source": [
    "### Parser\n",
    "Now for values. One might think that a 9 x 9 array would be the obvious data structure. But squares have names like 'A1', not (0,0). Therefore, values will be a dict with squares as keys. The value of each key will be the possible digits for that square: a single digit if it was given as part of the puzzle definition or if we have figured out what it must be, and a collection of several digits if we are still uncertain. This collection of digits could be represented by a Python set or list, but I chose instead to use a string of digits (we'll see why later). So a grid where A1 is 7 and C7 is empty would be represented as {'A1': '7', 'C7': '123456789', ...}."
   ]
  },
  {
   "cell_type": "code",
   "execution_count": 17,
   "metadata": {},
   "outputs": [
    {
     "name": "stdout",
     "output_type": "stream",
     "text": [
      "{'A1': '4', 'A2': '.', 'A3': '.', 'A4': '.', 'A5': '.', 'A6': '.', 'A7': '8', 'A8': '.', 'A9': '5', 'B1': '.', 'B2': '3', 'B3': '.', 'B4': '.', 'B5': '.', 'B6': '.', 'B7': '.', 'B8': '.', 'B9': '.', 'C1': '.', 'C2': '.', 'C3': '.', 'C4': '7', 'C5': '.', 'C6': '.', 'C7': '.', 'C8': '.', 'C9': '.', 'D1': '.', 'D2': '2', 'D3': '.', 'D4': '.', 'D5': '.', 'D6': '.', 'D7': '.', 'D8': '6', 'D9': '.', 'E1': '.', 'E2': '.', 'E3': '.', 'E4': '.', 'E5': '8', 'E6': '.', 'E7': '4', 'E8': '.', 'E9': '.', 'F1': '.', 'F2': '.', 'F3': '.', 'F4': '.', 'F5': '1', 'F6': '.', 'F7': '.', 'F8': '.', 'F9': '.', 'G1': '.', 'G2': '.', 'G3': '.', 'G4': '6', 'G5': '.', 'G6': '3', 'G7': '.', 'G8': '7', 'G9': '.', 'H1': '5', 'H2': '.', 'H3': '.', 'H4': '2', 'H5': '.', 'H6': '.', 'H7': '.', 'H8': '.', 'H9': '.', 'I1': '1', 'I2': '.', 'I3': '4', 'I4': '.', 'I5': '.', 'I6': '.', 'I7': '.', 'I8': '.', 'I9': '.'}\n"
     ]
    }
   ],
   "source": [
    "def parse_grid(grid):\n",
    "    \"\"\"Convert grid to a dict of possible values, {square: digits}, or\n",
    "    return False if a contradiction is detected.\"\"\"\n",
    "    ## To start, every square can be any digit; then assign values from the grid.\n",
    "    values = dict((s, digits) for s in squares)\n",
    "    for s,d in grid_values(grid).items():\n",
    "        if d in digits and not assign(values, s, d):\n",
    "            return False ## (Fail if we can't assign d to square s.)\n",
    "    return values\n",
    "\n",
    "grid2 = \"4.....8.5.3..........7......2.....6.....8.4......1.......6.3.7.5..2.....1.4......\"\n",
    "sudoku_values = (grid_values(grid2))\n",
    "                 \n",
    "print(sudoku_values)"
   ]
  },
  {
   "cell_type": "markdown",
   "metadata": {},
   "source": [
    "# Constraint Propagation - original code\n",
    "The function parse_grid calls assign(values, s, d). We could implement this as values[s] = d, but we can do more than just that. Those with experience solving Sudoku puzzles know that there are two important strategies that we can use to make progress towards filling in all the squares:\n",
    "\n",
    "(1) If a square has only one possible value, then eliminate that value from the square's peers. \n",
    "\n",
    "(2) If a unit has only one possible place for a value, then put the value there.\n",
    "\n",
    "As an example of strategy (1) if we assign 7 to A1, yielding {'A1': '7', 'A2':'123456789', ...}, we see that A1 has only one value, and thus the 7 can be removed from its peer A2 (and all other peers), giving us {'A1': '7', 'A2': '12345689', ...}. As an example of strategy (2), if it turns out that none of A3 through A9 has a 3 as a possible value, then the 3 must belong in A2, and we can update to {'A1': '7', 'A2':'3', ...}. These updates to A2 may in turn cause further updates to its peers, and the peers of those peers, and so on. This process is called constraint propagation.\n",
    "\n",
    "The function assign(values, s, d) will return the updated values (including the updates from constraint propagation), but if there is a contradiction--if the assignment cannot be made consistently--then assign returns False. For example, if a grid starts with the digits '77...' then when we try to assign the 7 to A2, assign would notice that 7 is not a possibility for A2, because it was eliminated by the peer, A1.\n",
    "\n",
    "It turns out that the fundamental operation is not assigning a value, but rather eliminating one of the possible values for a square, which we implement with eliminate(values, s, d). Once we have eliminate, then assign(values, s, d) can be defined as \"eliminate all the values from s except d\"."
   ]
  },
  {
   "cell_type": "code",
   "execution_count": 18,
   "metadata": {},
   "outputs": [],
   "source": [
    "def assign(values, s, d):\n",
    "    \"\"\"Eliminate all the other values (except d) from values[s] and propagate.\n",
    "    Return values, except return False if a contradiction is detected.\"\"\"\n",
    "    other_values = values[s].replace(d, '')\n",
    "    if all(eliminate(values, s, d2) for d2 in other_values):\n",
    "        return values\n",
    "    else:\n",
    "        return False\n",
    "\n",
    "def eliminate(values, s, d):\n",
    "    \"\"\"Eliminate d from values[s]; propagate when values or places <= 2.\n",
    "    Return values, except return False if a contradiction is detected.\"\"\"\n",
    "    if d not in values[s]:\n",
    "        return values ## Already eliminated\n",
    "    values[s] = values[s].replace(d,'')\n",
    "    ## (1) If a square s is reduced to one value d2, then eliminate d2 from the peers.\n",
    "    if len(values[s]) == 0:\n",
    "        return False ## Contradiction: removed last value\n",
    "    elif len(values[s]) == 1:\n",
    "        d2 = values[s]\n",
    "        if not all(eliminate(values, s2, d2) for s2 in peers[s]):\n",
    "            return False\n",
    "    ## (2) If a unit u is reduced to only one place for a value d, then put it there.\n",
    "    for u in units[s]:\n",
    "        dplaces = [s for s in u if d in values[s]]\n",
    "        if len(dplaces) == 0:\n",
    "            return False ## Contradiction: no place for this value\n",
    "        elif len(dplaces) == 1:\n",
    "            # d can only be in one place in unit; assign it there\n",
    "            if not assign(values, dplaces[0], d):\n",
    "                return False\n",
    "    return values"
   ]
  },
  {
   "cell_type": "markdown",
   "metadata": {},
   "source": [
    "### Test run"
   ]
  },
  {
   "cell_type": "code",
   "execution_count": 19,
   "metadata": {},
   "outputs": [
    {
     "name": "stdout",
     "output_type": "stream",
     "text": [
      "4 8 3 |9 2 1 |6 5 7 \n",
      "9 6 7 |3 4 5 |8 2 1 \n",
      "2 5 1 |8 7 6 |4 9 3 \n",
      "------+------+------\n",
      "5 4 8 |1 3 2 |9 7 6 \n",
      "7 2 9 |5 6 4 |1 3 8 \n",
      "1 3 6 |7 9 8 |2 4 5 \n",
      "------+------+------\n",
      "3 7 2 |6 8 9 |5 1 4 \n",
      "8 1 4 |2 5 3 |7 6 9 \n",
      "6 9 5 |4 1 7 |3 8 2 \n",
      "\n"
     ]
    }
   ],
   "source": [
    "grid2 = \"..3.2.6..9..3.5..1..18.64....81.29..7.......8..67.82....26.95..8..2.3..9..5.1.3..\"\n",
    "sudoku_values = (parse_grid(grid2))\n",
    "display(sudoku_values)"
   ]
  },
  {
   "cell_type": "markdown",
   "metadata": {},
   "source": [
    "# Constraint Propagation - code refactoring\n",
    "\n",
    "Try to decompose* eliminate function into smaller one.\n",
    "* Decomposition is a process by which you can break down one complex function into multiple smaller functions. By doing this, you can solve for functions in shorter, easier-to-understand pieces."
   ]
  },
  {
   "cell_type": "code",
   "execution_count": 32,
   "metadata": {},
   "outputs": [],
   "source": [
    "# todo\n",
    "\n",
    "def eliminate(values):\n",
    "    \"\"\"Eliminate values from peers of each box with a single value.\n",
    "\n",
    "    Go through all the boxes, and whenever there is a box with a single value,\n",
    "    eliminate this value from the set of values of all its peers.\n",
    "\n",
    "    Args:\n",
    "        values: Sudoku in dictionary form.\n",
    "    Returns:\n",
    "        Resulting Sudoku in dictionary form after eliminating values.\n",
    "    \"\"\"\n",
    "    for box,value in values.items():\n",
    "        if len(value) == 1:\n",
    "            # Remove now the value from all the peers. \n",
    "            # So the first thing to do is to loop over all the peers,\n",
    "            # being rows, cols or units\n",
    "            for peer in peers[box]:\n",
    "                values[peer] = values[peer].replace(value, \"\")\n",
    "    return values\n",
    "\n",
    "\n",
    "def only_choice(values):\n",
    "    \"\"\"Finalize all values that are the only choice for a unit.\n",
    "\n",
    "    Go through all the units, and whenever there is a unit with a value\n",
    "    that only fits in one box, assign the value to this box.\n",
    "\n",
    "    Input: Sudoku in dictionary form.\n",
    "    Output: Resulting Sudoku in dictionary form after filling in only choices.\n",
    "    \"\"\"\n",
    "    # TODO: Implement only choice strategy here\n",
    "    for box,value in values.items():\n",
    "        \n",
    "        # Now let's iterate over all digits \n",
    "        # and see if it appears only once\n",
    "        if len(value) > 1: # We only check when the number of digits is > 1\n",
    "            for c in value:\n",
    "                for peer_list in units[box]:\n",
    "                    sm = 0\n",
    "                    for bx in peer_list:\n",
    "                        if c in values[bx]:\n",
    "                            sm += 1\n",
    "                    if (sm == 1):\n",
    "                        values[box] = values[box].replace(value, c)\n",
    "                \n",
    "    return values\n",
    "\n",
    "\n",
    "def reduce_puzzle(values):\n",
    "    stalled = False\n",
    "    while not stalled:\n",
    "        # Check how many boxes have a determined value\n",
    "        solved_values_before = len([box for box in values.keys() if len(values[box]) == 1])\n",
    "\n",
    "        eliminate(values)\n",
    "        only_choice(values)\n",
    "        \n",
    "        # Are we finished yet?\n",
    "        solved_values_after = len([box for box in values.keys() if len(values[box]) == 1])\n",
    "        # If no new values were added, stop the loop.\n",
    "        stalled = solved_values_before == solved_values_after\n",
    "        # Sanity check, return False if there is a box with zero available values:\n",
    "        # Note: this will happen when using the search method. While searching\n",
    "        # for a solution, in a case where there are no solutions, what will happen\n",
    "        # is that the eliminate() function will remove all the digits from a box, telling\n",
    "        # us that there is no solution. This will be useful when writing the recursive function\n",
    "        # search()\n",
    "        if len([box for box in values.keys() if len(values[box]) == 0]):\n",
    "            return False\n",
    "    return values"
   ]
  },
  {
   "cell_type": "code",
   "execution_count": 30,
   "metadata": {},
   "outputs": [
    {
     "name": "stdout",
     "output_type": "stream",
     "text": [
      "  45   4578   3   |  9     2     1   |  6    578    57  \n",
      "  9   24678   47  |  3     4     5   |  8    278    1   \n",
      "  25    25    1   |  8     7     6   |  4    2359   35  \n",
      "------------------+------------------+------------------\n",
      " 345   345    8   |  1     36    2   |  9   34567 34567 \n",
      "  7     23    9   |  5    369    4   |  1     36    8   \n",
      " 1345  1345   6   |  7     39    8   |  2    345   345  \n",
      "------------------+------------------+------------------\n",
      " 134   1347   2   |  6     8     9   |  5     14    4   \n",
      "  8     14    4   |  2     5     3   |  7    146    9   \n",
      "  6     9     5   |  4     1     7   |  3     8     2   \n",
      "\n"
     ]
    }
   ],
   "source": [
    "my_initial_sudoku = grid_values('..3.2.6..9..3.5..1..18.64....81.29..7.......8..67.82....26.95..8..2.3..9..5.1.3..')\n",
    "my_second_sudoku = eliminate(my_initial_sudoku)\n",
    "third = eliminate(my_second_sudoku)\n",
    "display(only_choice(third))"
   ]
  },
  {
   "cell_type": "code",
   "execution_count": 31,
   "metadata": {},
   "outputs": [
    {
     "name": "stdout",
     "output_type": "stream",
     "text": [
      ". . 3 |. 2 . |6 . . \n",
      "9 . . |3 . 5 |. . 1 \n",
      ". . 1 |8 . 6 |4 . . \n",
      "------+------+------\n",
      ". . 8 |1 . 2 |9 . . \n",
      "7 . . |. . . |. . 8 \n",
      ". . 6 |7 . 8 |2 . . \n",
      "------+------+------\n",
      ". . 2 |6 . 9 |5 . . \n",
      "8 . . |2 . 3 |. . 9 \n",
      ". . 5 |. 1 . |3 . . \n",
      "\n"
     ]
    }
   ],
   "source": [
    "tmp = grid_values('..3.2.6..9..3.5..1..18.64....81.29..7.......8..67.82....26.95..8..2.3..9..5.1.3..')\n",
    "display(grid_values_empty('..3.2.6..9..3.5..1..18.64....81.29..7.......8..67.82....26.95..8..2.3..9..5.1.3..'))"
   ]
  },
  {
   "cell_type": "code",
   "execution_count": 33,
   "metadata": {},
   "outputs": [
    {
     "name": "stdout",
     "output_type": "stream",
     "text": [
      "4 8 3 |9 2 1 |6 5 7 \n",
      "9 6 7 |3 4 5 |8 2 1 \n",
      "2 5 1 |8 7 6 |4 9 3 \n",
      "------+------+------\n",
      "5 4 8 |1 3 2 |9 7 6 \n",
      "7 2 9 |5 6 4 |1 3 8 \n",
      "1 3 6 |7 9 8 |2 4 5 \n",
      "------+------+------\n",
      "3 7 2 |6 8 9 |5 1 4 \n",
      "8 1 4 |2 5 3 |7 6 9 \n",
      "6 9 5 |4 1 7 |3 8 2 \n",
      "\n"
     ]
    }
   ],
   "source": [
    "display(reduce_puzzle(tmp))"
   ]
  },
  {
   "cell_type": "markdown",
   "metadata": {},
   "source": [
    "# Naked twins\n",
    "http://www.sudokudragon.com/tutorialnakedtwins.htm\n"
   ]
  },
  {
   "cell_type": "code",
   "execution_count": 48,
   "metadata": {},
   "outputs": [],
   "source": [
    "# todo\n",
    "import logging\n",
    "\n",
    "def check_values(values):\n",
    "    logging.info('Checking values for feasibility.')\n",
    "    assert (len([values[box] for box in boxes if len(values[box]) != 0]))\n",
    "    logging.info('Values contain no empty strings.')\n",
    "    assert (len([values[box] for box in boxes if values[box] in digits]))\n",
    "    logging.info('Values contain only allowed characters in order.')\n",
    "    return\n",
    "\n",
    "def find_twins(values):\n",
    "    \"\"\"Discovery component of the naked_twins function.\n",
    "    \n",
    "    Find all instances of naked twins.\n",
    "        \n",
    "    Args:\n",
    "        values(dict): a dict of the form {'box_name': '123456789', ...}\n",
    "    Returns:\n",
    "        A dict of boxes that contain twins in the form {twin: paired_twin}. \n",
    "        Note that all twins are both a key and a value for their corresponding \n",
    "        twin.\n",
    "    \"\"\"\n",
    "       \n",
    "    logging.info('Finding naked twins in values.')\n",
    "    boxes_with_twins = {}\n",
    "    for box in boxes:\n",
    "        for peer in peers[box]:\n",
    "            if values[box] == values[peer] and len(values[box]) == 2:\n",
    "                boxes_with_twins[box] = peer\n",
    "    if len(boxes_with_twins) > 2:\n",
    "        logging.info('Found {} pairs of naked twins.'.format(len(boxes_with_twins)))\n",
    "    else: \n",
    "        logging.warn('No naked twins were found.')\n",
    "    return boxes_with_twins\n",
    "\n",
    "def eliminate_twins(values):\n",
    "    \"\"\"Elimination component of the naked_twins function.\n",
    "    \n",
    "    Eliminate all instances of naked twins from the find_twins function \n",
    "    by removing them as possibilities for their peers.\n",
    "    \n",
    "    Args:\n",
    "        values(dict): a dict of the form {'box_name': '123456789', ...}\n",
    "    Returns:\n",
    "        The values dict with the naked twins eliminated from peers.\n",
    "    \"\"\"\n",
    "     \n",
    "    boxes_with_twins = find_twins(values)  \n",
    "    for twin1, twin2 in boxes_with_twins.items():\n",
    "        logging.info(('Eliminating twins from peers[{}], peers[{}]: ' \n",
    "                     '{}, {} -> \\'\\', \\'\\'.')\n",
    "                    .format(twin1, twin2, values[twin1], values[twin2]))\n",
    "        for unit in unit_list:\n",
    "            if twin1 in unit and twin2 in unit:\n",
    "                for box in unit:\n",
    "                    if box != twin1 and box != twin2 and len(values[box]) > 1:\n",
    "                        for val in values[twin1]:\n",
    "                            assign_value(values, box, \n",
    "                                         values[box].replace(val, ''))\n",
    "    check_values(values)\n",
    "    logging.info('Current values:\\n{}.'.format(values))                                     \n",
    "    return values\n",
    "\n",
    "def naked_twins(values):\n",
    "    \"\"\"Eliminate values using the naked twins strategy.\n",
    "    \n",
    "    The naked twins technique is the following. If boxes 'F3' and 'I3' both \n",
    "    permit the values of 2 and 3, both belong to the same column, but we don't \n",
    "    know which one has a 2 and which one has a 3. Despite this, the values \n",
    "    2 and 3 are locked in those two boxes, so no other box in their same unit \n",
    "    (the third column) can contain the values 2 or 3. Thus, it is possible to \n",
    "    loop over all the boxes in their (same) unit, and remove the values 2 and \n",
    "    3 from their possible values.\n",
    "    \n",
    "    Args:\n",
    "        values(dict): a dict of the form {'box_name': '123456789', ...}\n",
    "    Returns:\n",
    "        The values dict with the naked twins eliminated from peers.\n",
    "    \"\"\"\n",
    "    \n",
    "    logging.info('Processing values using the naked twins technique.')\n",
    "    values = eliminate_twins(values) \n",
    "    return values"
   ]
  },
  {
   "cell_type": "code",
   "execution_count": 49,
   "metadata": {},
   "outputs": [
    {
     "name": "stderr",
     "output_type": "stream",
     "text": [
      "/srv/conda/lib/python3.6/site-packages/ipykernel_launcher.py:34: DeprecationWarning: The 'warn' function is deprecated, use 'warning' instead\n",
      "WARNING:root:No naked twins were found.\n"
     ]
    },
    {
     "name": "stdout",
     "output_type": "stream",
     "text": [
      "4 8 3 |9 2 1 |6 5 7 \n",
      "9 6 7 |3 4 5 |8 2 1 \n",
      "2 5 1 |8 7 6 |4 9 3 \n",
      "------+------+------\n",
      "5 4 8 |1 3 2 |9 7 6 \n",
      "7 2 9 |5 6 4 |1 3 8 \n",
      "1 3 6 |7 9 8 |2 4 5 \n",
      "------+------+------\n",
      "3 7 2 |6 8 9 |5 1 4 \n",
      "8 1 4 |2 5 3 |7 6 9 \n",
      "6 9 5 |4 1 7 |3 8 2 \n",
      "\n"
     ]
    }
   ],
   "source": [
    "display(naked_twins(tmp))"
   ]
  },
  {
   "cell_type": "code",
   "execution_count": null,
   "metadata": {},
   "outputs": [],
   "source": []
  },
  {
   "cell_type": "code",
   "execution_count": null,
   "metadata": {},
   "outputs": [],
   "source": []
  }
 ],
 "metadata": {
  "kernelspec": {
   "display_name": "Python 3",
   "language": "python",
   "name": "python3"
  },
  "language_info": {
   "codemirror_mode": {
    "name": "ipython",
    "version": 3
   },
   "file_extension": ".py",
   "mimetype": "text/x-python",
   "name": "python",
   "nbconvert_exporter": "python",
   "pygments_lexer": "ipython3",
   "version": "3.6.7"
  }
 },
 "nbformat": 4,
 "nbformat_minor": 1
}
